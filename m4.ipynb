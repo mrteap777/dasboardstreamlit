{
 "cells": [
  {
   "cell_type": "code",
   "execution_count": null,
   "metadata": {},
   "outputs": [],
   "source": [
    "from flask import Flask, request, jsonify\n",
    "import pandas as pd\n",
    "from statsmodels.tsa.arima.model import ARIMA\n",
    "\n",
    "app = Flask(__name__)\n",
    "\n",
    "# Загрузка данных и обучение модели ARIMA\n",
    "df = pd.read_csv('your_data.csv')  # Замените 'your_data.csv' на путь к вашим данным\n",
    "model = ARIMA(df['total_load'], order=(5, 1, 2))\n",
    "model_fit = model.fit()\n",
    "\n",
    "@app.route('/predict', methods=['POST'])\n",
    "def predict():\n",
    "    data = request.get_json()\n",
    "    forecast_steps = data['forecast_steps']\n",
    "    forecast = model_fit.forecast(steps=forecast_steps)\n",
    "    return jsonify({'forecast_values': forecast.tolist()})\n",
    "\n",
    "if __name__ == '__main__':\n",
    "    app.run(debug=True)\n"
   ]
  },
  {
   "cell_type": "code",
   "execution_count": null,
   "metadata": {},
   "outputs": [],
   "source": [
    "import streamlit as st\n",
    "import requests\n",
    "\n",
    "# Функция для отправки POST запроса к Flask API\n",
    "def get_forecast(forecast_steps):\n",
    "    url = 'http://127.0.0.1:5000/predict'  # Замените на URL вашего Flask API\n",
    "    data = {'forecast_steps': forecast_steps}\n",
    "    response = requests.post(url, json=data)\n",
    "    return response.json()['forecast_values']\n",
    "\n",
    "# Заголовок и описание приложения\n",
    "st.title('Прогноз загруженности станций')\n",
    "st.write('Введите количество дней для прогноза')\n",
    "\n",
    "# Пользовательский ввод\n",
    "forecast_steps = st.number_input('Количество дней', min_value=1, max_value=365*2, value=365)\n",
    "\n",
    "# Получение прогноза от Flask API\n",
    "forecast_values = get_forecast(forecast_steps)\n",
    "\n",
    "# Визуализация прогноза\n",
    "st.line_chart(forecast_values)\n"
   ]
  }
 ],
 "metadata": {
  "language_info": {
   "name": "python"
  }
 },
 "nbformat": 4,
 "nbformat_minor": 2
}
